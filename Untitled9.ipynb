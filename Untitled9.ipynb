{
 "cells": [
  {
   "cell_type": "code",
   "execution_count": 1,
   "id": "2d1acbd5-52ee-4886-be0a-1f1ee20780e9",
   "metadata": {},
   "outputs": [],
   "source": [
    "a = 2"
   ]
  },
  {
   "cell_type": "code",
   "execution_count": 2,
   "id": "6f9a346d-42d5-4957-bcad-63535b1d581f",
   "metadata": {},
   "outputs": [
    {
     "data": {
      "text/plain": [
       "2"
      ]
     },
     "execution_count": 2,
     "metadata": {},
     "output_type": "execute_result"
    }
   ],
   "source": [
    "a"
   ]
  },
  {
   "cell_type": "code",
   "execution_count": 3,
   "id": "f9d07695-a580-4c13-9a49-d2b3a300c7cd",
   "metadata": {},
   "outputs": [
    {
     "name": "stdout",
     "output_type": "stream",
     "text": [
      "2\n"
     ]
    }
   ],
   "source": [
    "#library function or inbuilt function \n",
    "print(a)"
   ]
  },
  {
   "cell_type": "code",
   "execution_count": 4,
   "id": "77ae1bb2-cb9b-4104-a47b-47e561c9ea26",
   "metadata": {},
   "outputs": [
    {
     "name": "stdout",
     "output_type": "stream",
     "text": [
      "shivraj gadge\n"
     ]
    }
   ],
   "source": [
    "print(\"shivraj gadge\")"
   ]
  },
  {
   "cell_type": "code",
   "execution_count": 5,
   "id": "0645b814-8d92-4d7d-a8a5-32eb2e4b3828",
   "metadata": {},
   "outputs": [
    {
     "ename": "SyntaxError",
     "evalue": "invalid syntax (278833736.py, line 1)",
     "output_type": "error",
     "traceback": [
      "\u001b[0;36m  Cell \u001b[0;32mIn[5], line 1\u001b[0;36m\u001b[0m\n\u001b[0;31m    name =\u001b[0m\n\u001b[0m          ^\u001b[0m\n\u001b[0;31mSyntaxError\u001b[0m\u001b[0;31m:\u001b[0m invalid syntax\n"
     ]
    }
   ],
   "source": [
    "name ="
   ]
  },
  {
   "cell_type": "code",
   "execution_count": 7,
   "id": "212f943e-994e-4d30-bb07-9e9d5e71e411",
   "metadata": {},
   "outputs": [],
   "source": [
    "name = \"shivraj gadge\""
   ]
  },
  {
   "cell_type": "code",
   "execution_count": 8,
   "id": "d82742a5-0bcc-467d-8af9-dd7cb58f6360",
   "metadata": {},
   "outputs": [
    {
     "name": "stdout",
     "output_type": "stream",
     "text": [
      "shivraj gadge\n"
     ]
    }
   ],
   "source": [
    "print(name)"
   ]
  },
  {
   "cell_type": "code",
   "execution_count": 11,
   "id": "a91e8c14-3350-4591-8ffb-7d0541d58afa",
   "metadata": {},
   "outputs": [],
   "source": [
    "a,b , c = 5,4,7"
   ]
  },
  {
   "cell_type": "code",
   "execution_count": 12,
   "id": "bdf225a5-1ff9-4cda-988b-fe18e97d43af",
   "metadata": {},
   "outputs": [
    {
     "data": {
      "text/plain": [
       "(5, 4, 7)"
      ]
     },
     "execution_count": 12,
     "metadata": {},
     "output_type": "execute_result"
    }
   ],
   "source": [
    "a,b,c"
   ]
  },
  {
   "cell_type": "code",
   "execution_count": 13,
   "id": "fd97fe81-32dd-4c46-b70b-8da706f87c42",
   "metadata": {},
   "outputs": [],
   "source": [
    "a = b = c = 7"
   ]
  },
  {
   "cell_type": "code",
   "execution_count": 14,
   "id": "0098642e-fc1d-43f2-bd9d-690519c99681",
   "metadata": {},
   "outputs": [
    {
     "name": "stdout",
     "output_type": "stream",
     "text": [
      "7\n"
     ]
    }
   ],
   "source": [
    "print(a)"
   ]
  },
  {
   "cell_type": "raw",
   "id": "e9a5ee76-d2b4-4297-b416-932a632737c3",
   "metadata": {},
   "source": [
    "print(45,67,89,sep=\"\")"
   ]
  },
  {
   "cell_type": "code",
   "execution_count": 26,
   "id": "801b2081-19b8-4a7a-a6bf-f7d7b3125106",
   "metadata": {},
   "outputs": [
    {
     "name": "stdout",
     "output_type": "stream",
     "text": [
      "shivrajgadge\n"
     ]
    }
   ],
   "source": [
    "print('shivrajgadge')"
   ]
  },
  {
   "cell_type": "code",
   "execution_count": 28,
   "id": "a549e38b-bb30-471f-987e-7c3fb66fca16",
   "metadata": {},
   "outputs": [
    {
     "name": "stdout",
     "output_type": "stream",
     "text": [
      "shivraj gadge\n",
      "amay\n"
     ]
    }
   ],
   "source": []
  },
  {
   "cell_type": "code",
   "execution_count": 29,
   "id": "2f92207e-c8d6-4518-a85d-71ade1b6265a",
   "metadata": {},
   "outputs": [
    {
     "name": "stdout",
     "output_type": "stream",
     "text": [
      "shivraj gadge\n",
      "amay\n"
     ]
    }
   ],
   "source": [
    "print('shivraj gadge')\n",
    "print('amay')"
   ]
  },
  {
   "cell_type": "code",
   "execution_count": null,
   "id": "2e1981a7-4165-4f0c-aee7-b37ffc4c1057",
   "metadata": {},
   "outputs": [],
   "source": []
  },
  {
   "cell_type": "code",
   "execution_count": 30,
   "id": "cf69d05e-37d5-4c20-897c-c84188ae1460",
   "metadata": {},
   "outputs": [
    {
     "name": "stdout",
     "output_type": "stream",
     "text": [
      "shivraj gadge\tamay\n"
     ]
    }
   ],
   "source": [
    "print('shivraj gadge', end='\\t')\n",
    "print('amay')"
   ]
  },
  {
   "cell_type": "code",
   "execution_count": null,
   "id": "6a743fd0-8dbd-4569-8054-ccba02e533fc",
   "metadata": {},
   "outputs": [],
   "source": []
  },
  {
   "cell_type": "code",
   "execution_count": 31,
   "id": "0b8f4d41-d15b-4eaa-ac76-7acfd18124b0",
   "metadata": {},
   "outputs": [
    {
     "ename": "SyntaxError",
     "evalue": "unterminated string literal (detected at line 1) (474110386.py, line 1)",
     "output_type": "error",
     "traceback": [
      "\u001b[0;36m  Cell \u001b[0;32mIn[31], line 1\u001b[0;36m\u001b[0m\n\u001b[0;31m    print('shivraj gadge', end=')\u001b[0m\n\u001b[0m                               ^\u001b[0m\n\u001b[0;31mSyntaxError\u001b[0m\u001b[0;31m:\u001b[0m unterminated string literal (detected at line 1)\n"
     ]
    }
   ],
   "source": [
    "print('shivraj gadge', end=')\n",
    "print('amay')"
   ]
  },
  {
   "cell_type": "code",
   "execution_count": null,
   "id": "ac6d208c-fcfb-4766-8aee-1b4747f22f1a",
   "metadata": {},
   "outputs": [
    {
     "name": "stdout",
     "output_type": "stream",
     "text": [
      "enter two nos.\n"
     ]
    }
   ],
   "source": [
    "print(\"enter two nos.\")\n",
    "a = int(input(\"input the value of a\"))\n",
    "b = int(input(\"input the value of b\"))\n",
    "c = a+b\n",
    "prit(c)"
   ]
  },
  {
   "cell_type": "code",
   "execution_count": null,
   "id": "8d45a2a1-cadd-4bfa-9f9b-b3c3dbb6b373",
   "metadata": {},
   "outputs": [],
   "source": []
  }
 ],
 "metadata": {
  "kernelspec": {
   "display_name": "Python 3 (ipykernel)",
   "language": "python",
   "name": "python3"
  },
  "language_info": {
   "codemirror_mode": {
    "name": "ipython",
    "version": 3
   },
   "file_extension": ".py",
   "mimetype": "text/x-python",
   "name": "python",
   "nbconvert_exporter": "python",
   "pygments_lexer": "ipython3",
   "version": "3.12.4"
  }
 },
 "nbformat": 4,
 "nbformat_minor": 5
}
